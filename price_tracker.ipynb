{
  "nbformat": 4,
  "nbformat_minor": 0,
  "metadata": {
    "colab": {
      "name": "price_tracker.ipynb",
      "provenance": [],
      "collapsed_sections": [],
      "authorship_tag": "ABX9TyNhRIIdFW5aBbjFICA/mZs0",
      "include_colab_link": true
    },
    "kernelspec": {
      "name": "python3",
      "display_name": "Python 3"
    },
    "language_info": {
      "name": "python"
    }
  },
  "cells": [
    {
      "cell_type": "markdown",
      "metadata": {
        "id": "view-in-github",
        "colab_type": "text"
      },
      "source": [
        "<a href=\"https://colab.research.google.com/github/purusinghal20/projects_on_googlecolab/blob/master/price_tracker.ipynb\" target=\"_parent\"><img src=\"https://colab.research.google.com/assets/colab-badge.svg\" alt=\"Open In Colab\"/></a>"
      ]
    },
    {
      "cell_type": "code",
      "metadata": {
        "id": "zLdU_GppSDKQ"
      },
      "source": [
        "# This lib will help you to scrap the data\n",
        "from bs4 import BeautifulSoup\n",
        "\n",
        "# This lib will help you to connect to the internet\n",
        "import requests\n",
        "\n",
        "# this will help you to prase the html ccode.\n",
        "import lxml\n",
        "\n"
      ],
      "execution_count": 1,
      "outputs": []
    },
    {
      "cell_type": "code",
      "metadata": {
        "colab": {
          "base_uri": "https://localhost:8080/"
        },
        "id": "DKYcUuxPrXLS",
        "outputId": "4592196c-d3f8-4bf3-cc62-1e7dd9ca88df"
      },
      "source": [
        "headers = {\n",
        "    \"User-Agent\": \"Mozilla/5.0 (Macintosh; Intel Mac OS X 10_15_6) AppleWebKit/537.36 (KHTML, like Gecko) Chrome/86.0.4240.198 Safari/537.36\",\n",
        "    \"Accept-Language\": \"en\",\n",
        "}\n",
        "# Connect \n",
        "page = requests.get(url, headers = headers)\n",
        "soup = BeautifulSoup(page.content , \"lxml\")\n",
        "soup.encode('utf-8')\n",
        "\n",
        "#-------------------------------------------------------------------------------\n",
        "\n",
        "url = input(\"Enter the url: \")\n",
        "slice_url = url[12:22]\n",
        "\n",
        "#-------------------------------------------------------------------------------\n",
        "\n",
        "if slice_url == \"amazon.com\":\n",
        "  try:\n",
        "    title = soup.find(id = \"productTitle\").get_text()\n",
        "    title = title.strip()\n",
        "    print(\"Product Name:\" , title)\n",
        "  except:\n",
        "    title = soup.find(id = \"productTitle\").get_text()\n",
        "    title = title.strip()\n",
        "    print(\"Product Name:\" , title)\n",
        "    \n",
        "#-------------------------------------------------------------------------------\n",
        "\n",
        "  try:\n",
        "    price = soup.find(id = \"priceblock_ourprice\").get_text()\n",
        "    price = price.strip()\n",
        "    print(\"Current Price:\" , price)\n",
        "  except:\n",
        "    price = soup.find(id = \"priceblock_ourprice\").get_text()\n",
        "    price = price.strip()\n",
        "    print(\"Current Price:\" , price)\n",
        "\n",
        "#-------------------------------------------------------------------------------\n",
        "\n",
        "  current_price = price[1:8]\n",
        "  replace_price = current_price.replace(\",\",\"\")\n",
        "\n",
        "#-------------------------------------------------------------------------------\n",
        "\n",
        "  your_price = input(\"Enter the price you want to purchase the product: \")\n",
        "\n",
        "#-------------------------------------------------------------------------------\n",
        "\n",
        "  new_price = float(replace_price) - float(your_price)\n",
        "  print(\"Discount you want: \" , float(new_price))\n",
        "\n",
        "#-------------------------------------------------------------------------------\n",
        "\n",
        "  if replace_price <= your_price:\n",
        "    print(\"Email send ...\")\n",
        "  else:\n",
        "    print(\"Wait for price fell...\")\n",
        "      \n",
        "#-------------------------------------------------------------------------------\n",
        "\n",
        "elif slice_url == \"amazon.in/\":\n",
        "  try:\n",
        "    title = soup.find(id = \"productTitle\").get_text()\n",
        "    title = title.strip()\n",
        "    print(\"Product Name:\" , title)\n",
        "  except:\n",
        "    title = soup.select(\"span.id ['productTitle']\")\n",
        "\n",
        "#-------------------------------------------------------------------------------\n",
        "\n",
        "  try:\n",
        "    price = soup.find(id = \"priceblock_ourprice\").get_text()\n",
        "    price = price.strip()\n",
        "    print(price)\n",
        "  except:\n",
        "    price = soup.find(id  = \"priceblock_ourprice\").get_text()\n",
        "    price = price.strip()\n",
        "    print(price)\n",
        "    \n",
        "#-------------------------------------------------------------------------------\n",
        "\n",
        "  print(\"Current Price:\" , price)\n",
        "  current_price = price[2:10]\n",
        "  replace_price = current_price.replace(\",\",\"\")\n",
        "  print(current_price)\n",
        "\n",
        "#-------------------------------------------------------------------------------\n",
        "\n",
        "  your_price = input(\"Enter the price you want to purchase the product: \")\n",
        "\n",
        "#-------------------------------------------------------------------------------\n",
        "\n",
        "  new_price = float(replace_price) - float(your_price)\n",
        "  print(\"Discount you want: \" , float(new_price))\n",
        "\n",
        "#-------------------------------------------------------------------------------\n",
        "\n",
        "  if replace_price <= your_price:\n",
        "    print(\"Email send..\")\n",
        "  else:\n",
        "    print(\"Wait for price fell.\")\n",
        "    \n",
        "#-------------------------------------------------------------------------------"
      ],
      "execution_count": 29,
      "outputs": [
        {
          "output_type": "stream",
          "text": [
            "Enter the url: https://www.amazon.in/Xbox-Wireless-Controller-Daystrike-Special/dp/B094FZFDWJ/ref=sr_1_1?crid=BGFC7TXPT9OL&dchild=1&keywords=xbox+series+x&qid=1624383418&sprefix=xbox%2Cmobile-apps%2C389&sr=8-1\n",
            "amazon.in/\n",
            "Product Name: Xbox Wireless Controller – Daystrike Camo Special Edition\n",
            "₹ 5,890.00\n",
            "Current Price: ₹ 5,890.00\n",
            "5,890.00\n",
            "Enter the price you want to purchase the product: 5000\n",
            "Discount you want:  890.0\n",
            "Hello!\n"
          ],
          "name": "stdout"
        }
      ]
    }
  ]
}