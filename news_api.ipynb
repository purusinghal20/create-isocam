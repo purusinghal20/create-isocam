{
  "nbformat": 4,
  "nbformat_minor": 0,
  "metadata": {
    "colab": {
      "name": "news_api.ipynb",
      "provenance": [],
      "collapsed_sections": [],
      "authorship_tag": "ABX9TyNswW6kMb0IaCmiAE68Pnqa",
      "include_colab_link": true
    },
    "kernelspec": {
      "name": "python3",
      "display_name": "Python 3"
    },
    "language_info": {
      "name": "python"
    }
  },
  "cells": [
    {
      "cell_type": "markdown",
      "metadata": {
        "id": "view-in-github",
        "colab_type": "text"
      },
      "source": [
        "<a href=\"https://colab.research.google.com/github/purusinghal20/projects_on_googlecolab/blob/master/news_api.ipynb\" target=\"_parent\"><img src=\"https://colab.research.google.com/assets/colab-badge.svg\" alt=\"Open In Colab\"/></a>"
      ]
    },
    {
      "cell_type": "code",
      "metadata": {
        "id": "GI3v0Gmoh1ec"
      },
      "source": [
        "import json\n",
        "import requests"
      ],
      "execution_count": 1,
      "outputs": []
    },
    {
      "cell_type": "code",
      "metadata": {
        "id": "noAc_fB-iB37"
      },
      "source": [
        "api_key = \"4a821d28cbac4895b9304566bc6e8705\"\n",
        "url = f\"https://newsapi.org/v2/top-headlines?country=us&apiKey={api_key}\""
      ],
      "execution_count": 2,
      "outputs": []
    },
    {
      "cell_type": "code",
      "metadata": {
        "id": "SKjzqwRCiTl-"
      },
      "source": [
        "responce = requests.get(url)\n",
        "news_json = json.loads(responce.text)\n",
        "count = 10"
      ],
      "execution_count": 3,
      "outputs": []
    },
    {
      "cell_type": "code",
      "metadata": {
        "colab": {
          "base_uri": "https://localhost:8080/"
        },
        "id": "4v7tWq9Gimmg",
        "outputId": "918ada2d-c2d5-473e-99fc-48f0df4689d2"
      },
      "source": [
        "for news in news_json[\"articles\"]:\n",
        "  if count>0:\n",
        "    print(\"------ Title ------\", \"\\n\")\n",
        "    print(str(news['title']), \"\\n\")\n",
        "    print(\"------ Description ------\", \"\\n\")\n",
        "    print(str(news['description']), \"\\n\")\n",
        "    count -= 1"
      ],
      "execution_count": 4,
      "outputs": [
        {
          "output_type": "stream",
          "text": [
            "------ Title ------ \n",
            "\n",
            "The new circus comes to town: fiery support for Donald Trump at rain-soaked Florida rally - The Guardian \n",
            "\n",
            "------ Description ------ \n",
            "\n",
            "Fireworks, a Trump impersonator and undying belief in the former president at his second rally after leaving office \n",
            "\n",
            "------ Title ------ \n",
            "\n",
            "Unprecedented heat, hundreds dead and a town destroyed. Climate change is frying the Northern Hemisphere - CNN  \n",
            "\n",
            "------ Description ------ \n",
            "\n",
            "The tiny town of Lytton has come to hold a grim record. On Tuesday, it experienced Canada's highest-ever temperature, in an unprecedented heat wave that has over a week killed hundreds of people and triggered more than 150 wildfires across British Columbia, m… \n",
            "\n",
            "------ Title ------ \n",
            "\n",
            "Chinese astronauts make first space walk outside new station - Yahoo News \n",
            "\n",
            "------ Description ------ \n",
            "\n",
            "Two astronauts made the first space walk on Sunday outside China’s new orbital station to work on setting up a 15-meter (50-foot) long robotic arm.  Liu... \n",
            "\n",
            "------ Title ------ \n",
            "\n",
            "Biden's Fourth of July celebrations clouded by a gnawing concern over the Delta variant of Covid-19 - CNN \n",
            "\n",
            "------ Description ------ \n",
            "\n",
            "When President Joe Biden welcomes 1,000 essential workers and military personnel on the South Lawn this weekend to mark Independence Day, it will fulfill -- and even exceed -- his prediction from March that July 4th gatherings this year would look more like t… \n",
            "\n",
            "------ Title ------ \n",
            "\n",
            "Tyson recalls 8.5 million pounds of chicken products due to possible listeria contamination - CNN  \n",
            "\n",
            "------ Description ------ \n",
            "\n",
            "Tyson Foods Inc. is recalling nearly 8.5 million pounds of ready-to-eat chicken products because they may be contaminated with Listeria, the USDA Food Safety and Inspection Service announced Saturday. \n",
            "\n",
            "------ Title ------ \n",
            "\n",
            "11 People Charged After Standoff In Wakefield On I-95; 8 Publicly Identified By Police - CBS Boston \n",
            "\n",
            "------ Description ------ \n",
            "\n",
            "The individuals, comprised of 10 men and one 17-year-old, claimed to be part of a group called “The Rise of The Moors – The Moorish American Arms.” \n",
            "\n",
            "------ Title ------ \n",
            "\n",
            "Khris Middleton lifts Milwaukee Bucks past Atlanta Hawks, into NBA Finals - ESPN \n",
            "\n",
            "------ Description ------ \n",
            "\n",
            "Khris Middleton's 32 points helped lift the Bucks into their first NBA Finals since 1974. \n",
            "\n",
            "------ Title ------ \n",
            "\n",
            "Jeff Bezos Leaves Enduring Legacy As He Steps Away As Amazon CEO - NDTV \n",
            "\n",
            "------ Description ------ \n",
            "\n",
            "As he prepares to blast off into a new career stage, Jeff Bezos leaves an enduring legacy after transforming Amazon from a modest online bookseller into one of the world's most powerful corporations. \n",
            "\n",
            "------ Title ------ \n",
            "\n",
            "L.A. County Public Health Covid-19 Report: 7 New Deaths, 644 New Positive Cases Ahead Of Independence Day - Yahoo Entertainment \n",
            "\n",
            "------ Description ------ \n",
            "\n",
            "On Saturday, the Los Angeles County Department of Public Health reported 7 new deaths from Covid-19 and 644 new positive cases. 275 County residents are... \n",
            "\n",
            "------ Title ------ \n",
            "\n",
            "Teenager Olivia Moultrie becomes youngest player in NWSL history in regular-season debut for Portland Thorns - CBS Sports \n",
            "\n",
            "------ Description ------ \n",
            "\n",
            "The 15-year-old midfielder made an appearance off the bench against Racing Louisville on Saturday \n",
            "\n"
          ],
          "name": "stdout"
        }
      ]
    }
  ]
}