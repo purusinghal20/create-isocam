{
  "nbformat": 4,
  "nbformat_minor": 0,
  "metadata": {
    "colab": {
      "name": "Google_News.ipynb",
      "provenance": [],
      "authorship_tag": "ABX9TyP60XQuRV3fzdrBGbiPXfD/",
      "include_colab_link": true
    },
    "kernelspec": {
      "name": "python3",
      "display_name": "Python 3"
    },
    "language_info": {
      "name": "python"
    }
  },
  "cells": [
    {
      "cell_type": "markdown",
      "metadata": {
        "id": "view-in-github",
        "colab_type": "text"
      },
      "source": [
        "<a href=\"https://colab.research.google.com/github/purusinghal20/projects_on_googlecolab/blob/master/Google_News.ipynb\" target=\"_parent\"><img src=\"https://colab.research.google.com/assets/colab-badge.svg\" alt=\"Open In Colab\"/></a>"
      ]
    },
    {
      "cell_type": "code",
      "metadata": {
        "colab": {
          "base_uri": "https://localhost:8080/"
        },
        "id": "nMk7sBHmm3IT",
        "outputId": "18fb5188-eb92-4848-e183-ff78c49b581f"
      },
      "source": [
        "from gnewsclient import gnewsclient\n",
        "import random\n",
        "\n",
        "topics = random.choice([\"Business\", \"Technology\", \"World\", \"Science\" , \"Sports\" ,\"Health\", \"Entertainment\"])\n",
        "\n",
        "print(\"This is the current topic: \" , topics,\"\\n\")\n",
        "\n",
        "client = gnewsclient.NewsClient(language='English', topic=topics, max_results=10)\n",
        "\n",
        "news = client.get_news()\n",
        "for new in news:\n",
        "  print(\"------ Title ------\", \"\\n\")\n",
        "  print(new['title'], \"\\n\")"
      ],
      "execution_count": 2,
      "outputs": [
        {
          "output_type": "stream",
          "text": [
            "This is the current topic:  Health \n",
            "\n",
            "------ Title ------ \n",
            "\n",
            "Biden's Fourth of July celebrations clouded by a gnawing concern over the Delta variant of Covid-19 - CNN \n",
            "\n",
            "------ Title ------ \n",
            "\n",
            "L.A. County Public Health Covid-19 Report: 7 New Deaths, 644 New Positive Cases Ahead Of Independence Day - Yahoo Entertainment \n",
            "\n",
            "------ Title ------ \n",
            "\n",
            "COVID-19 cases on the rise in Michigan - WKZO \n",
            "\n",
            "------ Title ------ \n",
            "\n",
            "Which Las Vegas neighborhoods have the most new COVID-19 infections? - FOX5 Las Vegas \n",
            "\n",
            "------ Title ------ \n",
            "\n",
            "Oregon reports 3 more COVID-19 related deaths, 209 new cases; models project continued decline - KTVZ \n",
            "\n",
            "------ Title ------ \n",
            "\n",
            "Unvaccinated people don't only risk their own health: Their bodies become 'variant factories' - Business Insider \n",
            "\n",
            "------ Title ------ \n",
            "\n",
            "Delta variant fuels concerns of COVID outbreaks during holiday weekend - CBS News \n",
            "\n",
            "------ Title ------ \n",
            "\n",
            "At the start of the pandemic, kids made up 2% of new COVID infections. Now, they make up 24%. What happened? - USA TODAY \n",
            "\n",
            "------ Title ------ \n",
            "\n",
            "West Nile virus and invasive mosquitos arrive in Shasta County - KRCRTV.COM \n",
            "\n",
            "------ Title ------ \n",
            "\n",
            "Listeria outbreak linked to precooked chicken causes 1 death, 3 hospitalizations - Fox News \n",
            "\n"
          ],
          "name": "stdout"
        }
      ]
    }
  ]
}