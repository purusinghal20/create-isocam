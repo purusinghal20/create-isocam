{
  "nbformat": 4,
  "nbformat_minor": 0,
  "metadata": {
    "colab": {
      "name": "password.ipynb",
      "provenance": [],
      "collapsed_sections": [],
      "authorship_tag": "ABX9TyNfln7Gt8fLOi9MxhNmAK5r",
      "include_colab_link": true
    },
    "kernelspec": {
      "name": "python3",
      "display_name": "Python 3"
    },
    "language_info": {
      "name": "python"
    }
  },
  "cells": [
    {
      "cell_type": "markdown",
      "metadata": {
        "id": "view-in-github",
        "colab_type": "text"
      },
      "source": [
        "<a href=\"https://colab.research.google.com/github/purusinghal20/create-isocam/blob/master/password.ipynb\" target=\"_parent\"><img src=\"https://colab.research.google.com/assets/colab-badge.svg\" alt=\"Open In Colab\"/></a>"
      ]
    },
    {
      "cell_type": "code",
      "metadata": {
        "colab": {
          "base_uri": "https://localhost:8080/"
        },
        "id": "dlfGMGWtQ0-I",
        "outputId": "a7186a0e-3fb6-4d42-e6bc-24bd77047907"
      },
      "source": [
        "#Password verification \n",
        "import getpass \n",
        "\n",
        "print(\"Welcome to PS productions 😀.\")\n",
        "data_base  = {\n",
        "    \"Puru\":\"12345678\",\n",
        "    \"Singhal\":\"87654321\"\n",
        "}\n",
        "count = 2\n",
        "username = input(str(\"Enter your username: \"))\n",
        "password = getpass.getpass(f\"Enter your password {username}. \")\n",
        "for x in data_base.keys():\n",
        "  if username == x:\n",
        "    while password != data_base.get(x):\n",
        "      password = getpass.getpass(f\"Enter your password {username}. \")\n",
        "    print(\"Verified\")\n",
        "    break\n",
        "  else:\n",
        "    print(\"Try again.\")"
      ],
      "execution_count": 2,
      "outputs": [
        {
          "output_type": "stream",
          "text": [
            "Welcome to PS productions 😀.\n",
            "Enter your username: Puru\n",
            "Enter your password Puru. ··········\n",
            "Verified\n"
          ],
          "name": "stdout"
        }
      ]
    }
  ]
}