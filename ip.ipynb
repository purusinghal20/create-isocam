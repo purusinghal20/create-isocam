{
  "nbformat": 4,
  "nbformat_minor": 0,
  "metadata": {
    "colab": {
      "name": "Untitled0.ipynb",
      "provenance": [],
      "collapsed_sections": [],
      "authorship_tag": "ABX9TyMMexfQBX2R6bxKvlAT3GaN",
      "include_colab_link": true
    },
    "kernelspec": {
      "name": "python3",
      "display_name": "Python 3"
    },
    "language_info": {
      "name": "python"
    }
  },
  "cells": [
    {
      "cell_type": "markdown",
      "metadata": {
        "id": "view-in-github",
        "colab_type": "text"
      },
      "source": [
        "<a href=\"https://colab.research.google.com/github/purusinghal20/create-isocam/blob/master/ip.ipynb\" target=\"_parent\"><img src=\"https://colab.research.google.com/assets/colab-badge.svg\" alt=\"Open In Colab\"/></a>"
      ]
    },
    {
      "cell_type": "code",
      "metadata": {
        "id": "n1EYHGjsLHpU"
      },
      "source": [
        "# Defang the IP address"
      ],
      "execution_count": 1,
      "outputs": []
    },
    {
      "cell_type": "code",
      "metadata": {
        "colab": {
          "base_uri": "https://localhost:8080/"
        },
        "id": "uVofcOz1O3Zj",
        "outputId": "b40077a1-e489-4950-f585-764e367ac4eb"
      },
      "source": [
        "def ip_addr(address):\n",
        "  new_address = \"\"\n",
        "  split_ip = address.split(\".\")\n",
        "  seprator = \"[.]\"\n",
        "  new_address+=seprator.join(split_ip)\n",
        "  return new_address\n",
        "  print(f\"New IP address is {new_address}\")\n",
        "\n",
        "test = ip_addr(\"1.2.36.0\")\n",
        "print(test)"
      ],
      "execution_count": 2,
      "outputs": [
        {
          "output_type": "stream",
          "text": [
            "1[.]2[.]36[.]0\n"
          ],
          "name": "stdout"
        }
      ]
    }
  ]
}