{
  "nbformat": 4,
  "nbformat_minor": 0,
  "metadata": {
    "colab": {
      "name": "QR code.ipynb",
      "provenance": [],
      "authorship_tag": "ABX9TyP/U+TGp87BkqhrVfWq03VR",
      "include_colab_link": true
    },
    "kernelspec": {
      "name": "python3",
      "display_name": "Python 3"
    },
    "language_info": {
      "name": "python"
    }
  },
  "cells": [
    {
      "cell_type": "markdown",
      "metadata": {
        "id": "view-in-github",
        "colab_type": "text"
      },
      "source": [
        "<a href=\"https://colab.research.google.com/github/purusinghal20/projects_on_googlecolab/blob/master/QR_code.ipynb\" target=\"_parent\"><img src=\"https://colab.research.google.com/assets/colab-badge.svg\" alt=\"Open In Colab\"/></a>"
      ]
    },
    {
      "cell_type": "code",
      "metadata": {
        "colab": {
          "base_uri": "https://localhost:8080/"
        },
        "id": "9putbeKlQgSd",
        "outputId": "d6d6bc8a-5e3d-468f-dc25-1311d06af788"
      },
      "source": [
        "!pip install pypng"
      ],
      "execution_count": 1,
      "outputs": [
        {
          "output_type": "stream",
          "text": [
            "Requirement already satisfied: pypng in /usr/local/lib/python3.7/dist-packages (0.0.20)\n"
          ],
          "name": "stdout"
        }
      ]
    },
    {
      "cell_type": "code",
      "metadata": {
        "colab": {
          "base_uri": "https://localhost:8080/"
        },
        "id": "lK_FzpRdOfy0",
        "outputId": "bb80ec81-be68-47c2-ebf5-636c24805699"
      },
      "source": [
        "!pip install pyqrcode"
      ],
      "execution_count": 2,
      "outputs": [
        {
          "output_type": "stream",
          "text": [
            "Requirement already satisfied: pyqrcode in /usr/local/lib/python3.7/dist-packages (1.2.1)\n"
          ],
          "name": "stdout"
        }
      ]
    },
    {
      "cell_type": "code",
      "metadata": {
        "id": "qZnEcM4QPMUf"
      },
      "source": [
        "import pyqrcode\n",
        "from pyqrcode import QRCode\n",
        "import png"
      ],
      "execution_count": 3,
      "outputs": []
    },
    {
      "cell_type": "code",
      "metadata": {
        "id": "pUFBNICGPZVS"
      },
      "source": [
        "you_tube = \"https://www.kaggle.com/learn\"\n",
        "url  = pyqrcode.create(you_tube)\n",
        "url.png(\"Kaggle.png\", scale  = 8)"
      ],
      "execution_count": 4,
      "outputs": []
    }
  ]
}