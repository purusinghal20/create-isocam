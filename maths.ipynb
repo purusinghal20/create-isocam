{
  "nbformat": 4,
  "nbformat_minor": 0,
  "metadata": {
    "colab": {
      "name": "maths.ipynb",
      "provenance": [],
      "collapsed_sections": [],
      "authorship_tag": "ABX9TyMQ2Q2LEeXgXsEui+85OLHi",
      "include_colab_link": true
    },
    "kernelspec": {
      "name": "python3",
      "display_name": "Python 3"
    },
    "language_info": {
      "name": "python"
    }
  },
  "cells": [
    {
      "cell_type": "markdown",
      "metadata": {
        "id": "view-in-github",
        "colab_type": "text"
      },
      "source": [
        "<a href=\"https://colab.research.google.com/github/purusinghal20/projects_on_googlecolab/blob/master/maths.ipynb\" target=\"_parent\"><img src=\"https://colab.research.google.com/assets/colab-badge.svg\" alt=\"Open In Colab\"/></a>"
      ]
    },
    {
      "cell_type": "code",
      "metadata": {
        "id": "TSJvSTd-NzLO"
      },
      "source": [
        "import random"
      ],
      "execution_count": 1,
      "outputs": []
    },
    {
      "cell_type": "code",
      "metadata": {
        "id": "ODDC58cmOJOV",
        "colab": {
          "base_uri": "https://localhost:8080/"
        },
        "outputId": "bee27ec0-04bc-40d8-f888-81c4c7602573"
      },
      "source": [
        "maths = [\"+\" , \"-\" , \"*\" , \"/\"]\n",
        "reward = [\"Perfect\" , \"Good\" , \"Well Done!\" , \"I need party.\" , \"🎉🥳\", \"Good Job\" , \"You can do much better.\", \"appreciated\"]\n",
        "rewards = random.choices(reward)\n",
        "symbole = random.choices(maths)\n",
        "num1 = random.randrange(10,20)\n",
        "num2 = random.randrange(20, 100)\n",
        "print(num2 , symbole , num1)\n",
        "answer = float(input(\"Answer: \"))\n",
        "points = 20\n",
        "\n",
        "if symbole == ['+']:\n",
        "  correct_answer = num2+num1\n",
        "  if answer == correct_answer:\n",
        "    points+=1\n",
        "    print(rewards)\n",
        "  else:\n",
        "    points-=1\n",
        "    print(\"Correct answer is = \", correct_answer)\n",
        "elif symbole == ['-']:\n",
        "  correct_answer = num2-num1\n",
        "  if answer == correct_answer:\n",
        "    points+=1\n",
        "    print(rewards)\n",
        "  else:\n",
        "    points-=1\n",
        "    print(\"Correct answer is = \", correct_answer)\n",
        "elif symbole == ['*']:\n",
        "  correct_answer = num2*num1\n",
        "  if answer == correct_answer:\n",
        "    points+=1\n",
        "    print(rewards)\n",
        "  else:\n",
        "    points-=1\n",
        "    print(\"Correct answer is = \", correct_answer)\n",
        "elif symbole == ['/']:\n",
        "  correct_answer = num2/num1\n",
        "  if answer == correct_answer:\n",
        "    points+=1\n",
        "    print(rewards)\n",
        "  else:\n",
        "    points -=1\n",
        "    print(\"Correct answer is = \", correct_answer)\n",
        "else:\n",
        "  print(\"Invalid!!\")\n",
        "print(\"Your points is = \" , points)"
      ],
      "execution_count": 2,
      "outputs": [
        {
          "output_type": "stream",
          "text": [
            "87 ['-'] 10\n",
            "Answer: 77\n",
            "['appreciated']\n",
            "Your points is =  21\n"
          ],
          "name": "stdout"
        }
      ]
    }
  ]
}